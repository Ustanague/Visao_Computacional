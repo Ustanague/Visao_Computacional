{
 "cells": [
  {
   "cell_type": "markdown",
   "id": "885cb032",
   "metadata": {},
   "source": [
    "### Instalações:"
   ]
  },
  {
   "cell_type": "code",
   "execution_count": null,
   "id": "514bf059",
   "metadata": {},
   "outputs": [],
   "source": [
    "#instalações necessárias:\n",
    "!pip install opencv-python\n",
    "!pip install mediapipe"
   ]
  },
  {
   "cell_type": "markdown",
   "id": "02b32ef4",
   "metadata": {},
   "source": [
    "### Importações:"
   ]
  },
  {
   "cell_type": "code",
   "execution_count": 6,
   "id": "1d2668a9",
   "metadata": {},
   "outputs": [],
   "source": [
    "import cv2\n",
    "import mediapipe as mp"
   ]
  },
  {
   "cell_type": "markdown",
   "id": "34548e60",
   "metadata": {},
   "source": [
    "### Código:"
   ]
  },
  {
   "cell_type": "code",
   "execution_count": 7,
   "id": "cb27b0cc",
   "metadata": {},
   "outputs": [
    {
     "name": "stdout",
     "output_type": "stream",
     "text": [
      "Digite o seu o ip da sua camera: \n",
      "\n"
     ]
    },
    {
     "data": {
      "text/plain": [
       "True"
      ]
     },
     "execution_count": 7,
     "metadata": {},
     "output_type": "execute_result"
    }
   ],
   "source": [
    "#Construção da Webcam:\n",
    "cam = cv2.VideoCapture()\n",
    "ip = input('Digite o seu o ip da sua camera: \\n')\n",
    "if ip == '':\n",
    "    ip = 'http://192.168.0.3:8080/video'\n",
    "\n",
    "else:\n",
    "    ip = ip+'/video'\n",
    "cam.open(ip)"
   ]
  },
  {
   "cell_type": "code",
   "execution_count": 8,
   "id": "af6420b2",
   "metadata": {},
   "outputs": [],
   "source": [
    "#Construção dos métodos de detecção:\n",
    "srr = mp.solutions.face_detection\n",
    "reconhecedor_rostos = srr.FaceDetection()\n",
    "desenho = mp.solutions.drawing_utils"
   ]
  },
  {
   "cell_type": "code",
   "execution_count": 9,
   "id": "9592467e",
   "metadata": {
    "scrolled": true
   },
   "outputs": [],
   "source": [
    "while True:\n",
    "    check, frame = cam.read() #Essa ordem das variaveis precisa ser respeitada!\n",
    "    \n",
    "    #Correção de erros de verificação:\n",
    "    if not check:\n",
    "        break\n",
    "    \n",
    "    #Reconhecedor de rostos:\n",
    "    imagem = frame\n",
    "    l_rosto = reconhecedor_rostos.process(imagem) #Processado a imagem, algoritmo dá uma lista de rostos\n",
    "    \n",
    "    if l_rosto.detections: #Se houver algum rosto,\n",
    "        for rosto in l_rosto.detections: #para cada um dos rostos que aparecer,\n",
    "            desenho.draw_detection(frame, rosto) #Marca o rosto.\n",
    "        \n",
    "    cv2.imshow('Rostos na Webcam', frame)\n",
    "    \n",
    "    if cv2.waitKey(5) == 27:\n",
    "        break"
   ]
  },
  {
   "cell_type": "code",
   "execution_count": 10,
   "id": "2afe8cd2",
   "metadata": {},
   "outputs": [],
   "source": [
    "#Fechando a janela \n",
    "cam.release()\n",
    "cv2.destroyAllWindows()"
   ]
  }
 ],
 "metadata": {
  "kernelspec": {
   "display_name": "Python 3 (ipykernel)",
   "language": "python",
   "name": "python3"
  },
  "language_info": {
   "codemirror_mode": {
    "name": "ipython",
    "version": 3
   },
   "file_extension": ".py",
   "mimetype": "text/x-python",
   "name": "python",
   "nbconvert_exporter": "python",
   "pygments_lexer": "ipython3",
   "version": "3.9.13"
  }
 },
 "nbformat": 4,
 "nbformat_minor": 5
}
