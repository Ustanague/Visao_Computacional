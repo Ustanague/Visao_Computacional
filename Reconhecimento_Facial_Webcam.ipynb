{
 "cells": [
  {
   "cell_type": "markdown",
   "id": "f39efd52",
   "metadata": {},
   "source": [
    "### Instalações:"
   ]
  },
  {
   "cell_type": "code",
   "execution_count": null,
   "id": "62183746",
   "metadata": {},
   "outputs": [],
   "source": [
    "#instalações necessárias:\n",
    "!pip install opencv-python\n",
    "!pip install mediapipe"
   ]
  },
  {
   "cell_type": "markdown",
   "id": "ad42d5c2",
   "metadata": {},
   "source": [
    "### Importações:"
   ]
  },
  {
   "cell_type": "code",
   "execution_count": null,
   "id": "86353ecb",
   "metadata": {},
   "outputs": [],
   "source": [
    "#Importações:\n",
    "import cv2 # importar o opencv -> para instalar rode pip install opencv-python\n",
    "import mediapipe as mp # para instalar rode pip install mediapipe"
   ]
  },
  {
   "cell_type": "markdown",
   "id": "dbf4b4ec",
   "metadata": {},
   "source": [
    "### Código:"
   ]
  },
  {
   "cell_type": "code",
   "execution_count": null,
   "id": "41961f95",
   "metadata": {},
   "outputs": [],
   "source": [
    "#Definição da Webcam\n",
    "webcam = cv2.VideoCapture(0) # para conectar o python com a nossa webcam.\n",
    "\n",
    "#Criação dos metodos de detecção de face:\n",
    "reconhecimento_rosto = mp.solutions.face_detection # ativando a solução de reconhecimento de rosto\n",
    "desenho = mp.solutions.drawing_utils # ativando a solução de desenho\n",
    "reconhecedor_rosto = reconhecimento_rosto.FaceDetection() # criando o item que consegue ler uma imagem e reconhecer os rostos ali dentro"
   ]
  },
  {
   "cell_type": "code",
   "execution_count": null,
   "id": "aa359dd2",
   "metadata": {},
   "outputs": [],
   "source": [
    "#Criação tá tela de visualização:\n",
    "while webcam.isOpened():\n",
    "    validacao, frame = webcam.read() # lê a imagem da webcam\n",
    "    if not validacao:\n",
    "        break\n",
    "    imagem = frame\n",
    "    lista_rostos = reconhecedor_rosto.process(imagem) # usa o reconhecedor para criar uma lista com os rostos reconhecidos\n",
    "    \n",
    "    if lista_rostos.detections: # caso algum rosto tenha sido reconhecido\n",
    "        for rosto in lista_rostos.detections: # para cada rosto que foi reconhecido\n",
    "            desenho.draw_detection(imagem, rosto) # desenha o rosto na imagem\n",
    "    \n",
    "    cv2.imshow(\"Rostos na sua webcam\", imagem) # mostra a imagem da webcam para a gente\n",
    "    if cv2.waitKey(5) == 27: # ESC # garante que o código vai ser pausado ao apertar ESC (código 27) e que o código vai esperar 5 milisegundos a cada leitura da webcam\n",
    "        break"
   ]
  },
  {
   "cell_type": "code",
   "execution_count": null,
   "id": "08723124",
   "metadata": {},
   "outputs": [],
   "source": [
    "#Fechamento das janelas criadas:\n",
    "webcam.release() # encerra a conexão com a webcam\n",
    "cv2.destroyAllWindows() # fecha a janela que mostra o que a webcam está vendo"
   ]
  }
 ],
 "metadata": {
  "kernelspec": {
   "display_name": "Python 3 (ipykernel)",
   "language": "python",
   "name": "python3"
  },
  "language_info": {
   "codemirror_mode": {
    "name": "ipython",
    "version": 3
   },
   "file_extension": ".py",
   "mimetype": "text/x-python",
   "name": "python",
   "nbconvert_exporter": "python",
   "pygments_lexer": "ipython3",
   "version": "3.9.13"
  }
 },
 "nbformat": 4,
 "nbformat_minor": 5
}
