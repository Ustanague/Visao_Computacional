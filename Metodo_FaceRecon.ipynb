{
 "cells": [
  {
   "cell_type": "markdown",
   "id": "65e4e59a",
   "metadata": {},
   "source": [
    "# Importações:"
   ]
  },
  {
   "cell_type": "code",
   "execution_count": 1,
   "id": "eb8410cf",
   "metadata": {},
   "outputs": [],
   "source": [
    "import cv2\n",
    "import face_recognition as fr"
   ]
  },
  {
   "cell_type": "markdown",
   "id": "b1a207a0",
   "metadata": {},
   "source": [
    "# Teste Visualizado:"
   ]
  },
  {
   "cell_type": "markdown",
   "id": "66c497be",
   "metadata": {},
   "source": [
    "### Teste - Elon Musk"
   ]
  },
  {
   "cell_type": "code",
   "execution_count": 18,
   "id": "8ee62045",
   "metadata": {},
   "outputs": [
    {
     "name": "stdout",
     "output_type": "stream",
     "text": [
      "(348, 810, 811, 348)\n",
      "[-0.05060666  0.11651108  0.06312807 -0.00442831 -0.15710498  0.00893254\n",
      " -0.02320953 -0.18921088  0.16988982 -0.07453565  0.26131642 -0.0970209\n",
      " -0.23890476  0.01686087 -0.016298    0.10185525 -0.12874204 -0.11438975\n",
      " -0.00649264 -0.10094778  0.12745541  0.07472653  0.02378751  0.00914854\n",
      " -0.09512207 -0.27448547 -0.09821624 -0.09365837  0.13516335 -0.07278737\n",
      "  0.01256282  0.03891077 -0.17200826 -0.08627272  0.04739793  0.04053183\n",
      " -0.07540621 -0.0816136   0.19758728 -0.05854287 -0.18793646 -0.04603765\n",
      "  0.03017839  0.20581986  0.10628738  0.03846691  0.01347479 -0.11225155\n",
      "  0.05301371 -0.23169804  0.0805543   0.15194057  0.05292574  0.014907\n",
      "  0.10534616 -0.18677172 -0.04355524  0.19851737 -0.13290456  0.08988917\n",
      "  0.08435201 -0.05868383 -0.00619683 -0.06674179  0.17322275  0.07021413\n",
      " -0.02926455 -0.15803471  0.15993582 -0.09492152 -0.12579873  0.15656558\n",
      " -0.11803178 -0.16515197 -0.26752982 -0.0354156   0.51918793  0.03651514\n",
      " -0.16942137  0.02604367 -0.04484922  0.00499394  0.14943941  0.02861885\n",
      "  0.01777256 -0.06516854 -0.14591868 -0.01730763  0.20325111 -0.09617103\n",
      " -0.05641149  0.21589434 -0.0262065   0.03605869  0.03351831  0.08639525\n",
      " -0.06763808 -0.01215867 -0.11902171 -0.13077798  0.06007592 -0.02088943\n",
      " -0.04990946  0.16932991 -0.22854011  0.11795446  0.00914634 -0.00521124\n",
      "  0.00639983 -0.05506187 -0.03372172  0.01759519  0.19661394 -0.30124491\n",
      "  0.14393492  0.1606178  -0.05291761  0.14375225 -0.00295694  0.0286398\n",
      "  0.02228798 -0.09335171 -0.24388984 -0.09108921  0.02016341 -0.00737994\n",
      " -0.06500209  0.0254957 ]\n",
      "[True]\n"
     ]
    },
    {
     "data": {
      "text/plain": [
       "-1"
      ]
     },
     "execution_count": 18,
     "metadata": {},
     "output_type": "execute_result"
    }
   ],
   "source": [
    "#Importando a imagem e Corrigindo de BGR para RGB:\n",
    "#Imagem Base:\n",
    "imgElonB_BGR = fr.load_image_file('Elon.jpg')\n",
    "imgElonB = cv2.cvtColor(imgElonB_BGR, cv2.COLOR_BGR2RGB)\n",
    "\n",
    "#Imagem Teste:\n",
    "imgElonT_BGR = fr.load_image_file('Musk.webp')\n",
    "imgElonT = cv2.cvtColor(imgElonT_BGR, cv2.COLOR_BGR2RGB)\n",
    "\n",
    "#Criando o retangulo de reconhecimento facial:\n",
    "faceLoc = fr.face_locations(imgElonB)[0] #Isso é um array, ou seja, ele está extraindo a primeira posição... Apenas para teste:\n",
    "cv2.rectangle(imgElonB,(faceLoc[3],faceLoc[0]),(faceLoc[1],faceLoc[2]),(0,255,0),1) #Imagem, eixos (Duas Tuplas), cor, tamanho do quadrado, nessa ordem.\n",
    "print(faceLoc) #Utilizado apenas parar a visualização das dimensões do rosto da imagem... Irrelevante para o funcionamento do algorítimo\n",
    "\n",
    "#Criando o reconhecimento da face:\n",
    "#Imagem Base:\n",
    "encodeElonB = fr.face_encodings(imgElonB)[0]\n",
    "print(encodeElonB) #Demonstra visualmente para o programador as cordenadas do rosto da imagem:\n",
    "encodeElonT = fr.face_encodings(imgElonT)[0]\n",
    "\n",
    "\n",
    "#Executando comparação:\n",
    "comp = fr.compare_faces([encodeElonB],encodeElonT)\n",
    "print(comp)\n",
    "\n",
    "cv2.imshow('Elon', imgElonB)\n",
    "cv2.imshow('Musk', imgElonT)\n",
    "cv2.waitKey(0)"
   ]
  },
  {
   "cell_type": "markdown",
   "id": "4942171e",
   "metadata": {},
   "source": [
    "# Testes Cego:"
   ]
  },
  {
   "cell_type": "markdown",
   "id": "36968ba6",
   "metadata": {},
   "source": [
    "## Capacidade de Reconhecimento do Algorítmo:"
   ]
  },
  {
   "cell_type": "code",
   "execution_count": 28,
   "id": "43497649",
   "metadata": {},
   "outputs": [
    {
     "name": "stdout",
     "output_type": "stream",
     "text": [
      "[True]\n",
      "[False]\n"
     ]
    }
   ],
   "source": [
    "#Importando a imagem e Corrigindo de BGR para RGB:\n",
    "#Imagem M1 - Imagem Teste:\n",
    "M1_BGR = fr.load_image_file('M1.jpg')\n",
    "M1_RGB = cv2.cvtColor(M1_BGR, cv2.COLOR_BGR2RGB)\n",
    "\n",
    "#Imagem M2 - Imagem Base:\n",
    "M2_BGR = fr.load_image_file('M2.jpg')\n",
    "M2_RGB = cv2.cvtColor(M2_BGR, cv2.COLOR_BGR2RGB)\n",
    "\n",
    "#Imagem M3 - Imagem Teste:\n",
    "M3_BGR = fr.load_image_file('Elon.jpg')\n",
    "M3_RGB = cv2.cvtColor(M3_BGR, cv2.COLOR_BGR2RGB)\n",
    "\n",
    "#Criando o retangulo de reconhecimento facial:\n",
    "faceLoc = fr.face_locations(M2_RGB)[0] #Isso é um array, ou seja, ele está extraindo a primeira posição... Apenas para teste:\n",
    "cv2.rectangle(M2_RGB,(faceLoc[3],faceLoc[0]),(faceLoc[1],faceLoc[2]),(0,255,0),1) #Imagem, eixos (Duas Tuplas), cor, tamanho do quadrado, nessa ordem.\n",
    "\n",
    "#Criando o reconhecimento da face:\n",
    "#Imagem Base:\n",
    "encodeM2_RGB = fr.face_encodings(M2_RGB)[0]\n",
    "\n",
    "#Executando comparação:\n",
    "#M2 vs M1\n",
    "encodeM1_RGB = fr.face_encodings(M1_RGB)[0] #Criando o reconhecimento - M1\n",
    "comp1 = fr.compare_faces([encodeM2_RGB],encodeM1_RGB) #Comparação\n",
    "print(comp1)\n",
    "\n",
    "#Executando comparação:\n",
    "#M2 vs M3\n",
    "encodeM3_RGB = fr.face_encodings(M3_RGB)[0] #Criando o reconhecimento - M3\n",
    "comp2 = fr.compare_faces([encodeM2_RGB],encodeM3_RGB) #Comparação\n",
    "print(comp2)"
   ]
  },
  {
   "cell_type": "code",
   "execution_count": null,
   "id": "6d716dd0",
   "metadata": {},
   "outputs": [],
   "source": []
  }
 ],
 "metadata": {
  "kernelspec": {
   "display_name": "Python 3 (ipykernel)",
   "language": "python",
   "name": "python3"
  },
  "language_info": {
   "codemirror_mode": {
    "name": "ipython",
    "version": 3
   },
   "file_extension": ".py",
   "mimetype": "text/x-python",
   "name": "python",
   "nbconvert_exporter": "python",
   "pygments_lexer": "ipython3",
   "version": "3.7.13"
  }
 },
 "nbformat": 4,
 "nbformat_minor": 5
}
