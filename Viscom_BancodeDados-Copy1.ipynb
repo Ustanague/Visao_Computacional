{
 "cells": [
  {
   "cell_type": "markdown",
   "id": "cf47f4aa",
   "metadata": {},
   "source": [
    "# Importações:"
   ]
  },
  {
   "cell_type": "code",
   "execution_count": null,
   "id": "5a768dec",
   "metadata": {
    "scrolled": true
   },
   "outputs": [],
   "source": [
    "#Biblioteca para o reconhecimento facial:\n",
    "import face_recognition as fr\n",
    "\n",
    "#OpenCv para a utilização da Camera e afins:\n",
    "import cv2\n",
    "\n",
    "#Vai precisar para manipulação de Arrays\n",
    "import numpy as np\n",
    "\n",
    "import os \n",
    "os.environ['KMP_DUPLICATE_LIB_OK']='True'"
   ]
  },
  {
   "cell_type": "markdown",
   "id": "901d701f",
   "metadata": {},
   "source": [
    "# Código:"
   ]
  },
  {
   "cell_type": "markdown",
   "id": "e612faff",
   "metadata": {},
   "source": [
    "## Acesso ao Banco de Dados:"
   ]
  },
  {
   "cell_type": "raw",
   "id": "f2136394",
   "metadata": {},
   "source": [
    "Por enquanto esse \"Banco de Dados\" é só uma pasta qualquer."
   ]
  },
  {
   "cell_type": "code",
   "execution_count": null,
   "id": "25bee5dd",
   "metadata": {},
   "outputs": [],
   "source": [
    "#Função para apanhas as imagens:\n",
    "def reconhece_face(url_foto):\n",
    "    foto = fr.load_image_file(url_foto)\n",
    "    rostos = fr.face_encodings(foto)\n",
    "    if len(rostos) > 0:\n",
    "        return True, rostos\n",
    "\n",
    "    return False, []"
   ]
  },
  {
   "cell_type": "markdown",
   "id": "fe5ffed8",
   "metadata": {},
   "source": [
    "## Definição do indivíduo:"
   ]
  },
  {
   "cell_type": "code",
   "execution_count": null,
   "id": "b8ac599f",
   "metadata": {},
   "outputs": [],
   "source": [
    "#Função que identifica os rostos:\n",
    "def get_rostos():\n",
    "    rostos_conhecidos = []\n",
    "    nomes_rostos = []\n",
    "    \n",
    "    #Pegando o rosto:\n",
    "    andre = reconhece_face('D:\\Viscom\\Eu.jpg')\n",
    "    if(andre[0]):\n",
    "        rostos_conhecidos.append(andre[1][0]) #Lembre-se que afunção face_recognition resulta em um Array, TUDO é array nesse caso!\n",
    "        nomes_rostos.append('André')\n",
    "        \n",
    "    mae = reconhece_face('D:\\Viscom\\Mãe.jpg')\n",
    "    if(mae[0]):\n",
    "        rostos_conhecidos.append(mae[1][0])\n",
    "        nomes_rostos.append('Mãe')\n",
    "        \n",
    "    return rostos_conhecidos, nomes_rostos"
   ]
  },
  {
   "cell_type": "raw",
   "id": "b18d2b7f",
   "metadata": {},
   "source": [
    "OBS:\n",
    "Caso haja, mais de um rosto, vai-se precisar encontrar o rosto em questão que se queira comparar. \n",
    "Ou seja, definir a posição certa do array."
   ]
  },
  {
   "cell_type": "code",
   "execution_count": null,
   "id": "44db8ddf",
   "metadata": {},
   "outputs": [],
   "source": [
    "rostos_conhecidos, nomes_dos_rostos = get_rostos()"
   ]
  },
  {
   "cell_type": "markdown",
   "id": "eee26711",
   "metadata": {},
   "source": [
    "## Montando a WebCam:"
   ]
  },
  {
   "cell_type": "raw",
   "id": "8792986a",
   "metadata": {},
   "source": [
    "Nesse caso, eu vou utilizar o celular como webcam e vou montar o código para funcionar assim, porém ativar a webcam do PC é um procedimento ainda mais fácil."
   ]
  },
  {
   "cell_type": "code",
   "execution_count": null,
   "id": "78f45c7e",
   "metadata": {},
   "outputs": [],
   "source": [
    "#Construção da Webcam:\n",
    "cam = cv2.VideoCapture()\n",
    "ip = 'http://192.168.0.4:8080/video'\n",
    "cam.open(ip)\n",
    "srr = ip"
   ]
  },
  {
   "cell_type": "code",
   "execution_count": null,
   "id": "73a07d41",
   "metadata": {},
   "outputs": [],
   "source": [
    "#Contrução da vizualização:\n",
    "while True:\n",
    "    check, frame = cam.read() #Essa ordem das variaveis precisa ser respeitada!\n",
    "    \n",
    "    #Correção de erros de verificação:\n",
    "    if not check:\n",
    "        break\n",
    "    \n",
    "    #Definição de Cores do Frame:\n",
    "    rgb_frame = frame[:,:,::-1]\n",
    "    face_locations = fr.face_locations(rgb_frame)\n",
    "    face_encodings = fr.face_encodings(rgb_frame,face_locations)\n",
    "    \n",
    "    for(top,right,bottom,left), face_encoding in zip(face_locations, face_encodings):\n",
    "        resultados = fr.compare_faces(rostos_conhecidos, face_encoding)\n",
    "        \n",
    "        face_distances = fr.face_distance(rostos_conhecidos,face_encoding)\n",
    "        \n",
    "        #Fazendo a comparação:\n",
    "        melhor_id = np.argmin(face_distances)\n",
    "        if resultados[melhor_id]:\n",
    "            name = nomes_dos_rostos[melhor_id]\n",
    "        else:\n",
    "            name = 'Desconhecido'\n",
    "            \n",
    "        #Desenhando o quadrado ao redor do rosto:\n",
    "        cv2.rectangle(frame, (left,top),(right,bottom),(0,0,255),2)\n",
    "        \n",
    "        #Desenhando o quadrado abaixo do primeiro, onde constará o nome no indivíduo:\n",
    "        cv2.rectangle(frame, (left,bottom-35), (right, bottom), (0,0,255),cv2.FILLED) #cv2.FILLED indica preenchimento.\n",
    "        \n",
    "        #Construção do texto do Nome do candango:\n",
    "        font = cv2.FONT_HERSHEY_SIMPLEX #Definindo a fonte que aparecerá o nome\n",
    "        cv2.putText(frame, nome, (left+6, bottom-6),font,1.0,(255,255,255),1)\n",
    "    if cv2.waitKey(5) == 27:\n",
    "        break"
   ]
  },
  {
   "cell_type": "code",
   "execution_count": null,
   "id": "3634716f",
   "metadata": {},
   "outputs": [],
   "source": [
    "#Fechando a janela \n",
    "cam.release()\n",
    "cv2.destroyAllWindows()"
   ]
  }
 ],
 "metadata": {
  "kernelspec": {
   "display_name": "Python 3 (ipykernel)",
   "language": "python",
   "name": "python3"
  },
  "language_info": {
   "codemirror_mode": {
    "name": "ipython",
    "version": 3
   },
   "file_extension": ".py",
   "mimetype": "text/x-python",
   "name": "python",
   "nbconvert_exporter": "python",
   "pygments_lexer": "ipython3",
   "version": "3.7.13"
  }
 },
 "nbformat": 4,
 "nbformat_minor": 5
}
